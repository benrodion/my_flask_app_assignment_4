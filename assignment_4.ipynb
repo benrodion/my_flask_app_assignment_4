{
 "cells": [
  {
   "cell_type": "markdown",
   "id": "14e86c1a",
   "metadata": {},
   "source": [
    "# Data Structures & Algorithms\n",
    "## Homework Assignment 4\n",
    "\n",
    "In this notebook, I document my solutions for the fourth homework assignment in the class _Data Structures & Algorithms_. My personal data are:\n",
    "\n",
    "- Name: Benedict Anderer\n",
    "- Student-ID: 247576"
   ]
  },
  {
   "cell_type": "markdown",
   "id": "3f227b65",
   "metadata": {},
   "source": [
    "## Exercise 1: \n",
    "For the code, please visit my forked Github-repo here: https://github.com/benrodion/my_flask_app_assignment_4.git"
   ]
  }
 ],
 "metadata": {
  "language_info": {
   "name": "python"
  }
 },
 "nbformat": 4,
 "nbformat_minor": 5
}
