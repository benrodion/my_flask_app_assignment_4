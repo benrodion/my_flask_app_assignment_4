{
 "cells": [
  {
   "cell_type": "markdown",
   "id": "14e86c1a",
   "metadata": {},
   "source": [
    "# Data Structures & Algorithms\n",
    "## Homework Assignment 4\n",
    "\n",
    "In this notebook, I document my solutions for the fourth homework assignment in the class _Data Structures & Algorithms_. My personal data are:\n",
    "\n",
    "- Name: Benedict Anderer\n",
    "- Student-ID: 247576"
   ]
  },
  {
   "cell_type": "markdown",
   "id": "3f227b65",
   "metadata": {},
   "source": [
    "## Exercise 1: \n",
    "For the code, please visit my forked Github-repo here: https://github.com/benrodion/my_flask_app_assignment_4.git\n",
    "\n",
    "\n",
    "It is 2019 and I am working for the Green Party in England, which is analyzing the results of the recent election. Specifically, the campaign manager would in a first step like to get an overview of how well the Green Party did in the various constituencies. The goal of this is to identify both, the party's strongholds as well as constituencies in which it is weak and on which it should perhaps focus more in its next campaign. The graph will therefore play a role in setting the priorities for future campaigns. To provide an overview, I will plot the vote share of the Greens for all constituencies in ascending order.  \n",
    "\n",
    "In a second step, the campaign manager wants to know how demographic factors influence the popularity of the Greens. More precisely, she has seen a [Statista](https://www.statista.com/statistics/1379439/uk-election-polls-by-age/) graph (from the future) indicating that the Greens have a popularity problem among the elderly. Now she would like to verify this using the data from the recent election. To help her identify a potential pattern between Green Party support and the amount of elderly citizens in a constituency, I will create a scatterplot, which will give her a good first idea of a potential correlation between these two variables. The graph will help her better understand if indeed a higher population share of retired citizens goes hand in hand with a lower vote share of the Green Party. Should this be the case and should further investigations support this, she could take measures to increase her party's popularity in this demographic. \n"
   ]
  },
  {
   "cell_type": "markdown",
   "id": "79261c88",
   "metadata": {},
   "source": [
    "## Exercise 2: \n",
    "Let us once more clarify the framework of the problem before attempting to solve it: \n",
    "\n",
    "- This is not explicitly articulated in the task, but there is a **constraint**: inferring from the tables, only job can be processed at a time!  \n",
    "- j = list of jobs  \n",
    "- $d_j$ = deadline of job j  \n",
    "- $s_j$ = time at which job j is started  \n",
    "- $t_j$ = time it takes to finish job j\n",
    "- $f_j$ = time at which job j is finished so $s_j$ + $t_j$  \n",
    "- $l_j$ = lateness of job j, so max{0, $f_j$ - $d_j$}  \n",
    "\n",
    "*Goal* of the _greedy_ algorithm: schedule all jobs such that maximum lateness is minimized L = max $l_j$\n",
    "\n",
    "There exist several ways of ordering the jobs:   \n",
    "- shortest processing time first: order jobs in ascending order of processing time $t_j$ (smallest jobs first)\n",
    "- earliest deadline first: order jobs in ascending order of $d_j$  \n",
    "- smallest slack (least time to start to accomplish deadline): ordering jobs in ascending order of $d_j$ - $t_j$  \n",
    "\n",
    "The optimal approach with regard to our problem is an **earliest-deadline-first-greedy-algorithm** (EDF), which provides us with an optimal schedule with no idle (i.e. unused) time. The algorithm therefore sorts all jobs such that $d_1 ≤ d_2 ... ≤ d_j$ (hence the name) and jobs are processed in a way that never leaves the agent/processor (or whoever is tasked with the jobs) idle. Why is this optimal? The optimality of this solution can be proved via Lemma's Exchange Argument. Suppose we have an \"optimal\" non-EDF schedule of jobs S, which since it is non-EDF, will contain at least one _inversion_. An inversion is a pair of jobs $j_i$ and $j_k$ such that i < k (w.r.t. their deadlines), but $j_k$ is scheduled before $j_i$. Swapping the two consecutive, inverted jobs reduces the number of inversions by one and does _not_ increase maximum lateness, as the sum is commutative. If we swap the two jobs such that $j_i$ is processed before $j_k$ maximum lateness can only stay the same or decrease, it _cannot_ increase. Hence, removing all inversions will give us an EDF-order of jobs without increasing maximum lateness. In fact, it decreases it.  \n",
    "Support for solving this exercise came from material from [TU Delft](https://ocw.tudelft.nl/wp-content/uploads/Algoritmiek_Scheduling_to_Minimize_Maximum_Lateness.pdf).\n",
    "\n",
    "The time complexity of the algorithm is determined by the need to order the jobs by deadline. If merge-sort is employed for this, the Big O of the EDF-algorithm is O(n log n).\n",
    "\n",
    "**Pseudo-Code for EDF-Algorithm**:  \n",
    "```\n",
    "Input: a list of jobs Jobs[j1, j2... jn], each job j has:  \n",
    "         j.t  = processing time\n",
    "         j.d  = deadline\n",
    "Output: an EDF schedule with start times, and the minimized maximum lateness (Lmax) for each job.\n",
    "\n",
    "function EDF_Schedule(Jobs):\n",
    "    1. Sort jobs by ascending deadlines\n",
    "    Jobs_sorted ← sort(Jobs) by (j.d ascending)\n",
    "    time ← 0    # the start time of the first job \n",
    "    Lmax ← –∞   # initialize the minimized maximum lateness\n",
    "    2. Assign start/completion times in that order\n",
    "    for each j in Jobs_sorted do\n",
    "        j.start    ← time\n",
    "        time       ← time + j.t\n",
    "        j.complete ← time\n",
    "    3. Compute lateness for this job\n",
    "        j.lateness ← j.complete – j.d\n",
    "        if j.lateness > Lmax then\n",
    "            Lmax ← j.lateness\n",
    "        end if\n",
    "    end for\n",
    "\n",
    "    4. Return the ordered schedule and the maximum lateness\n",
    "    return (Jobs_sorted, Lmax)\n",
    "    ```\n",
    "\n"
   ]
  }
 ],
 "metadata": {
  "kernelspec": {
   "display_name": "dsa",
   "language": "python",
   "name": "python3"
  },
  "language_info": {
   "name": "python",
   "version": "3.11.11"
  }
 },
 "nbformat": 4,
 "nbformat_minor": 5
}
