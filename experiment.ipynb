{
 "cells": [
  {
   "cell_type": "code",
   "execution_count": 13,
   "id": "1692d2dd",
   "metadata": {},
   "outputs": [],
   "source": [
    "from flask import render_template, flash, redirect, url_for, request\n",
    "from flaskapp import app, db\n",
    "from flaskapp.models import BlogPost, IpView, Day, UkData # accessing the Database\n",
    "from flaskapp.forms import PostForm\n",
    "import datetime\n",
    "from sqlalchemy import inspect\n",
    "import plotly.express as px\n",
    "import pandas as pd\n",
    "import json\n",
    "import plotly\n",
    "import seaborn as sns\n",
    "import plotly.express as px"
   ]
  },
  {
   "cell_type": "code",
   "execution_count": 14,
   "id": "19dab1d8",
   "metadata": {},
   "outputs": [
    {
     "data": {
      "application/vnd.plotly.v1+json": {
       "config": {
        "plotlyServerURL": "https://plot.ly"
       },
       "data": [
        {
         "hovertemplate": "Constituency=%{x}<br>y=%{y}<extra></extra>",
         "legendgroup": "",
         "marker": {
          "color": "#636efa",
          "pattern": {
           "shape": ""
          }
         },
         "name": "",
         "orientation": "v",
         "showlegend": false,
         "textposition": "auto",
         "type": "bar",
         "x": [
          "Aldershot",
          "Aldridge-Brownhills",
          "Altrincham and Sale West",
          "Amber Valley",
          "Arundel and South Downs",
          "Ashfield",
          "Ashford",
          "Ashton-under-Lyne",
          "Aylesbury",
          "Banbury",
          "Barking",
          "Barnsley Central",
          "Barnsley East",
          "Barrow and Furness",
          "Basildon and Billericay",
          "South Basildon and East Thurrock",
          "Basingstoke",
          "Bassetlaw",
          "Bath",
          "Batley and Spen",
          "Battersea",
          "Beaconsfield",
          "Beckenham",
          "Bedford",
          "Mid Bedfordshire",
          "North East Bedfordshire",
          "South West Bedfordshire",
          "Bermondsey and Old Southwark",
          "Berwick-upon-Tweed",
          "Bethnal Green and Bow",
          "Beverley and Holderness",
          "Bexhill and Battle",
          "Bexleyheath and Crayford",
          "Birkenhead",
          "Birmingham, Edgbaston",
          "Birmingham, Erdington",
          "Birmingham, Hall Green",
          "Birmingham, Hodge Hill",
          "Birmingham, Ladywood",
          "Birmingham, Northfield",
          "Birmingham, Perry Barr",
          "Birmingham, Selly Oak",
          "Birmingham, Yardley",
          "Bishop Auckland",
          "Blackburn",
          "Blackley and Broughton",
          "Blackpool North and Cleveleys",
          "Blackpool South",
          "Blaydon",
          "Blyth Valley",
          "Bognor Regis and Littlehampton",
          "Bolsover",
          "Bolton North East",
          "Bolton South East",
          "Bolton West",
          "Bootle",
          "Boston and Skegness",
          "Bosworth",
          "Bournemouth East",
          "Bournemouth West",
          "Bracknell",
          "Bradford East",
          "Bradford South",
          "Bradford West",
          "Braintree",
          "Brent Central",
          "Brent North",
          "Brentford and Isleworth",
          "Brentwood and Ongar",
          "Bridgwater and West Somerset",
          "Brigg and Goole",
          "Brighton, Kemptown",
          "Brighton, Pavilion",
          "Bristol East",
          "Bristol North West",
          "Bristol South",
          "Bristol West",
          "Broadland",
          "Bromley and Chislehurst",
          "Bromsgrove",
          "Broxbourne",
          "Broxtowe",
          "Buckingham",
          "Burnley",
          "Burton",
          "Bury North",
          "Bury South",
          "Bury St Edmunds",
          "Calder Valley",
          "Camberwell and Peckham",
          "Camborne and Redruth",
          "Cambridge",
          "North East Cambridgeshire",
          "North West Cambridgeshire",
          "South Cambridgeshire",
          "South East Cambridgeshire",
          "Cannock Chase",
          "Canterbury",
          "Carlisle",
          "Carshalton and Wallington",
          "Castle Point",
          "Charnwood",
          "Chatham and Aylesford",
          "Cheadle",
          "Chelmsford",
          "Chelsea and Fulham",
          "Cheltenham",
          "Chesham and Amersham",
          "City of Chester",
          "Chesterfield",
          "Chichester",
          "Chingford and Woodford Green",
          "Chippenham",
          "Chipping Barnet",
          "Chorley",
          "Christchurch",
          "Cities of London and Westminster",
          "Clacton",
          "Cleethorpes",
          "Colchester",
          "Colne Valley",
          "Congleton",
          "Copeland",
          "Corby",
          "North Cornwall",
          "South East Cornwall",
          "The Cotswolds",
          "Coventry North East",
          "Coventry North West",
          "Coventry South",
          "Crawley",
          "Crewe and Nantwich",
          "Croydon Central",
          "Croydon North",
          "Croydon South",
          "Dagenham and Rainham",
          "Darlington",
          "Dartford",
          "Daventry",
          "Denton and Reddish",
          "Derby North",
          "Derby South",
          "Derbyshire Dales",
          "Mid Derbyshire",
          "North East Derbyshire",
          "South Derbyshire",
          "Devizes",
          "Central Devon",
          "East Devon",
          "North Devon",
          "South West Devon",
          "Torridge and West Devon",
          "Dewsbury",
          "Don Valley",
          "Doncaster Central",
          "Doncaster North",
          "Mid Dorset and North Poole",
          "North Dorset",
          "South Dorset",
          "West Dorset",
          "Dover",
          "Dudley North",
          "Dudley South",
          "Dulwich and West Norwood",
          "City of Durham",
          "North Durham",
          "North West Durham",
          "Ealing Central and Acton",
          "Ealing North",
          "Ealing, Southall",
          "Easington",
          "East Ham",
          "Eastbourne",
          "Eastleigh",
          "Eddisbury",
          "Edmonton",
          "Ellesmere Port and Neston",
          "Elmet and Rothwell",
          "Eltham",
          "Enfield North",
          "Enfield, Southgate",
          "Epping Forest",
          "Epsom and Ewell",
          "Erewash",
          "Erith and Thamesmead",
          "Esher and Walton",
          "Exeter",
          "Fareham",
          "Faversham and Mid Kent",
          "Feltham and Heston",
          "Filton and Bradley Stoke",
          "Finchley and Golders Green",
          "Folkestone and Hythe",
          "Forest of Dean",
          "Fylde",
          "Gainsborough",
          "Garston and Halewood",
          "Gateshead",
          "Gedling",
          "Gillingham and Rainham",
          "Gloucester",
          "Gosport",
          "Grantham and Stamford",
          "Gravesham",
          "Great Grimsby",
          "Great Yarmouth",
          "Greenwich and Woolwich",
          "Guildford",
          "Hackney North and Stoke Newington",
          "Hackney South and Shoreditch",
          "Halesowen and Rowley Regis",
          "Halifax",
          "Haltemprice and Howden",
          "Halton",
          "Hammersmith",
          "East Hampshire",
          "North East Hampshire",
          "North West Hampshire",
          "Hampstead and Kilburn",
          "Harborough",
          "Harlow",
          "Harrogate and Knaresborough",
          "Harrow East",
          "Harrow West",
          "Hartlepool",
          "Harwich and North Essex",
          "Hastings and Rye",
          "Havant",
          "Hayes and Harlington",
          "Hazel Grove",
          "Hemel Hempstead",
          "Hemsworth",
          "Hendon",
          "Henley",
          "Hereford and South Herefordshire",
          "North Herefordshire",
          "Hertford and Stortford",
          "North East Hertfordshire",
          "South West Hertfordshire",
          "Hertsmere",
          "Hexham",
          "Heywood and Middleton",
          "High Peak",
          "Hitchin and Harpenden",
          "Holborn and St Pancras",
          "Hornchurch and Upminster",
          "Hornsey and Wood Green",
          "Horsham",
          "Houghton and Sunderland South",
          "Hove",
          "Huddersfield",
          "Kingston upon Hull East",
          "Kingston upon Hull North",
          "Kingston upon Hull West and Hessle",
          "Huntingdon",
          "Hyndburn",
          "Ilford North",
          "Ilford South",
          "Ipswich",
          "Isle of Wight",
          "Islington North",
          "Islington South and Finsbury",
          "Jarrow",
          "Keighley",
          "Kenilworth and Southam",
          "Kensington",
          "Kettering",
          "Kingston and Surbiton",
          "Kingswood",
          "Knowsley",
          "West Lancashire",
          "Lancaster and Fleetwood",
          "Leeds Central",
          "Leeds East",
          "Leeds North East",
          "Leeds North West",
          "Leeds West",
          "Leicester East",
          "Leicester South",
          "Leicester West",
          "North West Leicestershire",
          "South Leicestershire",
          "Leigh",
          "Lewes",
          "Lewisham, Deptford",
          "Lewisham East",
          "Lewisham West and Penge",
          "Leyton and Wanstead",
          "Lichfield",
          "Lincoln",
          "Liverpool, Riverside",
          "Liverpool, Walton",
          "Liverpool, Wavertree",
          "Liverpool, West Derby",
          "Loughborough",
          "Louth and Horncastle",
          "Ludlow",
          "Luton North",
          "Luton South",
          "Macclesfield",
          "Maidenhead",
          "Maidstone and The Weald",
          "Makerfield",
          "Maldon",
          "Manchester Central",
          "Manchester, Gorton",
          "Manchester, Withington",
          "Mansfield",
          "Meon Valley",
          "Meriden",
          "Middlesbrough",
          "Middlesbrough South and East Cleveland",
          "Milton Keynes North",
          "Milton Keynes South",
          "Mitcham and Morden",
          "Mole Valley",
          "Morecambe and Lunesdale",
          "Morley and Outwood",
          "New Forest East",
          "New Forest West",
          "Newark",
          "Newbury",
          "Newcastle-under-Lyme",
          "Newcastle upon Tyne Central",
          "Newcastle upon Tyne East",
          "Newcastle upon Tyne North",
          "Newton Abbot",
          "Mid Norfolk",
          "North Norfolk",
          "North West Norfolk",
          "South Norfolk",
          "South West Norfolk",
          "Normanton, Pontefract and Castleford",
          "Northampton North",
          "Northampton South",
          "South Northamptonshire",
          "Norwich North",
          "Norwich South",
          "Nottingham East",
          "Nottingham North",
          "Nottingham South",
          "Nuneaton",
          "Old Bexley and Sidcup",
          "Oldham East and Saddleworth",
          "Oldham West and Royton",
          "Orpington",
          "Oxford East",
          "Oxford West and Abingdon",
          "Pendle",
          "Penistone and Stocksbridge",
          "Penrith and The Border",
          "Peterborough",
          "Plymouth, Moor View",
          "Plymouth, Sutton and Devonport",
          "Poole",
          "Poplar and Limehouse",
          "Portsmouth North",
          "Portsmouth South",
          "Preston",
          "Pudsey",
          "Putney",
          "Rayleigh and Wickford",
          "Reading East",
          "Reading West",
          "Redcar",
          "Redditch",
          "Reigate",
          "Ribble Valley",
          "Richmond (Yorks)",
          "Richmond Park",
          "Rochdale",
          "Rochester and Strood",
          "Rochford and Southend East",
          "Romford",
          "Romsey and Southampton North",
          "Rossendale and Darwen",
          "Rother Valley",
          "Rotherham",
          "Rugby",
          "Ruislip, Northwood and Pinner",
          "Runnymede and Weybridge",
          "Rushcliffe",
          "Rutland and Melton",
          "Saffron Walden",
          "St Albans",
          "St Austell and Newquay",
          "St Helens North",
          "St Helens South and Whiston",
          "St Ives",
          "Salford and Eccles",
          "Salisbury",
          "Scarborough and Whitby",
          "Scunthorpe",
          "Sedgefield",
          "Sefton Central",
          "Selby and Ainsty",
          "Sevenoaks",
          "Sheffield, Brightside and Hillsborough",
          "Sheffield Central",
          "Sheffield, Hallam",
          "Sheffield, Heeley",
          "Sheffield South East",
          "Sherwood",
          "Shipley",
          "Shrewsbury and Atcham",
          "North Shropshire",
          "Sittingbourne and Sheppey",
          "Skipton and Ripon",
          "Sleaford and North Hykeham",
          "Slough",
          "Solihull",
          "North Somerset",
          "North East Somerset",
          "Somerton and Frome",
          "South Holland and The Deepings",
          "South Ribble",
          "South Shields",
          "Southampton, Itchen",
          "Southampton, Test",
          "Southend West",
          "Southport",
          "Spelthorne",
          "Stafford",
          "Staffordshire Moorlands",
          "South Staffordshire",
          "Stalybridge and Hyde",
          "Stevenage",
          "Stockport",
          "Stockton North",
          "Stockton South",
          "Stoke-on-Trent Central",
          "Stoke-on-Trent North",
          "Stoke-on-Trent South",
          "Stone",
          "Stourbridge",
          "Stratford-on-Avon",
          "Streatham",
          "Stretford and Urmston",
          "Stroud",
          "Central Suffolk and North Ipswich",
          "Suffolk Coastal",
          "South Suffolk",
          "West Suffolk",
          "Sunderland Central",
          "East Surrey",
          "Surrey Heath",
          "South West Surrey",
          "Mid Sussex",
          "Sutton and Cheam",
          "Sutton Coldfield",
          "North Swindon",
          "South Swindon",
          "Tamworth",
          "Tatton",
          "Taunton Deane",
          "Telford",
          "Tewkesbury",
          "North Thanet",
          "South Thanet",
          "Thirsk and Malton",
          "Thornbury and Yate",
          "Thurrock",
          "Tiverton and Honiton",
          "Tonbridge and Malling",
          "Tooting",
          "Torbay",
          "Totnes",
          "Tottenham",
          "Truro and Falmouth",
          "Tunbridge Wells",
          "Twickenham",
          "Tynemouth",
          "North Tyneside",
          "Uxbridge and South Ruislip",
          "Vauxhall",
          "Wakefield",
          "Wallasey",
          "Walsall North",
          "Walsall South",
          "Walthamstow",
          "Wansbeck",
          "Wantage",
          "Warley",
          "Warrington North",
          "Warrington South",
          "Warwick and Leamington",
          "North Warwickshire",
          "Washington and Sunderland West",
          "Watford",
          "Waveney",
          "Wealden",
          "Weaver Vale",
          "Wellingborough",
          "Wells",
          "Welwyn Hatfield",
          "Wentworth and Dearne",
          "West Bromwich East",
          "West Bromwich West",
          "West Ham",
          "Westminster North",
          "Westmorland and Lonsdale",
          "Weston-Super-Mare",
          "Wigan",
          "North Wiltshire",
          "South West Wiltshire",
          "Wimbledon",
          "Winchester",
          "Windsor",
          "Wirral South",
          "Wirral West",
          "Witham",
          "Witney",
          "Woking",
          "Wokingham",
          "Wolverhampton North East",
          "Wolverhampton South East",
          "Wolverhampton South West",
          "Worcester",
          "Mid Worcestershire",
          "West Worcestershire",
          "Workington",
          "Worsley and Eccles South",
          "East Worthing and Shoreham",
          "Worthing West",
          "The Wrekin",
          "Wycombe",
          "Wyre and Preston North",
          "Wyre Forest",
          "Wythenshawe and Sale East",
          "Yeovil",
          "York Central",
          "York Outer",
          "East Yorkshire"
         ],
         "xaxis": "x",
         "y": {
          "bdata": "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",
          "dtype": "f8"
         },
         "yaxis": "y"
        }
       ],
       "layout": {
        "barmode": "relative",
        "legend": {
         "tracegroupgap": 0
        },
        "template": {
         "data": {
          "bar": [
           {
            "error_x": {
             "color": "#2a3f5f"
            },
            "error_y": {
             "color": "#2a3f5f"
            },
            "marker": {
             "line": {
              "color": "#E5ECF6",
              "width": 0.5
             },
             "pattern": {
              "fillmode": "overlay",
              "size": 10,
              "solidity": 0.2
             }
            },
            "type": "bar"
           }
          ],
          "barpolar": [
           {
            "marker": {
             "line": {
              "color": "#E5ECF6",
              "width": 0.5
             },
             "pattern": {
              "fillmode": "overlay",
              "size": 10,
              "solidity": 0.2
             }
            },
            "type": "barpolar"
           }
          ],
          "carpet": [
           {
            "aaxis": {
             "endlinecolor": "#2a3f5f",
             "gridcolor": "white",
             "linecolor": "white",
             "minorgridcolor": "white",
             "startlinecolor": "#2a3f5f"
            },
            "baxis": {
             "endlinecolor": "#2a3f5f",
             "gridcolor": "white",
             "linecolor": "white",
             "minorgridcolor": "white",
             "startlinecolor": "#2a3f5f"
            },
            "type": "carpet"
           }
          ],
          "choropleth": [
           {
            "colorbar": {
             "outlinewidth": 0,
             "ticks": ""
            },
            "type": "choropleth"
           }
          ],
          "contour": [
           {
            "colorbar": {
             "outlinewidth": 0,
             "ticks": ""
            },
            "colorscale": [
             [
              0,
              "#0d0887"
             ],
             [
              0.1111111111111111,
              "#46039f"
             ],
             [
              0.2222222222222222,
              "#7201a8"
             ],
             [
              0.3333333333333333,
              "#9c179e"
             ],
             [
              0.4444444444444444,
              "#bd3786"
             ],
             [
              0.5555555555555556,
              "#d8576b"
             ],
             [
              0.6666666666666666,
              "#ed7953"
             ],
             [
              0.7777777777777778,
              "#fb9f3a"
             ],
             [
              0.8888888888888888,
              "#fdca26"
             ],
             [
              1,
              "#f0f921"
             ]
            ],
            "type": "contour"
           }
          ],
          "contourcarpet": [
           {
            "colorbar": {
             "outlinewidth": 0,
             "ticks": ""
            },
            "type": "contourcarpet"
           }
          ],
          "heatmap": [
           {
            "colorbar": {
             "outlinewidth": 0,
             "ticks": ""
            },
            "colorscale": [
             [
              0,
              "#0d0887"
             ],
             [
              0.1111111111111111,
              "#46039f"
             ],
             [
              0.2222222222222222,
              "#7201a8"
             ],
             [
              0.3333333333333333,
              "#9c179e"
             ],
             [
              0.4444444444444444,
              "#bd3786"
             ],
             [
              0.5555555555555556,
              "#d8576b"
             ],
             [
              0.6666666666666666,
              "#ed7953"
             ],
             [
              0.7777777777777778,
              "#fb9f3a"
             ],
             [
              0.8888888888888888,
              "#fdca26"
             ],
             [
              1,
              "#f0f921"
             ]
            ],
            "type": "heatmap"
           }
          ],
          "histogram": [
           {
            "marker": {
             "pattern": {
              "fillmode": "overlay",
              "size": 10,
              "solidity": 0.2
             }
            },
            "type": "histogram"
           }
          ],
          "histogram2d": [
           {
            "colorbar": {
             "outlinewidth": 0,
             "ticks": ""
            },
            "colorscale": [
             [
              0,
              "#0d0887"
             ],
             [
              0.1111111111111111,
              "#46039f"
             ],
             [
              0.2222222222222222,
              "#7201a8"
             ],
             [
              0.3333333333333333,
              "#9c179e"
             ],
             [
              0.4444444444444444,
              "#bd3786"
             ],
             [
              0.5555555555555556,
              "#d8576b"
             ],
             [
              0.6666666666666666,
              "#ed7953"
             ],
             [
              0.7777777777777778,
              "#fb9f3a"
             ],
             [
              0.8888888888888888,
              "#fdca26"
             ],
             [
              1,
              "#f0f921"
             ]
            ],
            "type": "histogram2d"
           }
          ],
          "histogram2dcontour": [
           {
            "colorbar": {
             "outlinewidth": 0,
             "ticks": ""
            },
            "colorscale": [
             [
              0,
              "#0d0887"
             ],
             [
              0.1111111111111111,
              "#46039f"
             ],
             [
              0.2222222222222222,
              "#7201a8"
             ],
             [
              0.3333333333333333,
              "#9c179e"
             ],
             [
              0.4444444444444444,
              "#bd3786"
             ],
             [
              0.5555555555555556,
              "#d8576b"
             ],
             [
              0.6666666666666666,
              "#ed7953"
             ],
             [
              0.7777777777777778,
              "#fb9f3a"
             ],
             [
              0.8888888888888888,
              "#fdca26"
             ],
             [
              1,
              "#f0f921"
             ]
            ],
            "type": "histogram2dcontour"
           }
          ],
          "mesh3d": [
           {
            "colorbar": {
             "outlinewidth": 0,
             "ticks": ""
            },
            "type": "mesh3d"
           }
          ],
          "parcoords": [
           {
            "line": {
             "colorbar": {
              "outlinewidth": 0,
              "ticks": ""
             }
            },
            "type": "parcoords"
           }
          ],
          "pie": [
           {
            "automargin": true,
            "type": "pie"
           }
          ],
          "scatter": [
           {
            "fillpattern": {
             "fillmode": "overlay",
             "size": 10,
             "solidity": 0.2
            },
            "type": "scatter"
           }
          ],
          "scatter3d": [
           {
            "line": {
             "colorbar": {
              "outlinewidth": 0,
              "ticks": ""
             }
            },
            "marker": {
             "colorbar": {
              "outlinewidth": 0,
              "ticks": ""
             }
            },
            "type": "scatter3d"
           }
          ],
          "scattercarpet": [
           {
            "marker": {
             "colorbar": {
              "outlinewidth": 0,
              "ticks": ""
             }
            },
            "type": "scattercarpet"
           }
          ],
          "scattergeo": [
           {
            "marker": {
             "colorbar": {
              "outlinewidth": 0,
              "ticks": ""
             }
            },
            "type": "scattergeo"
           }
          ],
          "scattergl": [
           {
            "marker": {
             "colorbar": {
              "outlinewidth": 0,
              "ticks": ""
             }
            },
            "type": "scattergl"
           }
          ],
          "scattermap": [
           {
            "marker": {
             "colorbar": {
              "outlinewidth": 0,
              "ticks": ""
             }
            },
            "type": "scattermap"
           }
          ],
          "scattermapbox": [
           {
            "marker": {
             "colorbar": {
              "outlinewidth": 0,
              "ticks": ""
             }
            },
            "type": "scattermapbox"
           }
          ],
          "scatterpolar": [
           {
            "marker": {
             "colorbar": {
              "outlinewidth": 0,
              "ticks": ""
             }
            },
            "type": "scatterpolar"
           }
          ],
          "scatterpolargl": [
           {
            "marker": {
             "colorbar": {
              "outlinewidth": 0,
              "ticks": ""
             }
            },
            "type": "scatterpolargl"
           }
          ],
          "scatterternary": [
           {
            "marker": {
             "colorbar": {
              "outlinewidth": 0,
              "ticks": ""
             }
            },
            "type": "scatterternary"
           }
          ],
          "surface": [
           {
            "colorbar": {
             "outlinewidth": 0,
             "ticks": ""
            },
            "colorscale": [
             [
              0,
              "#0d0887"
             ],
             [
              0.1111111111111111,
              "#46039f"
             ],
             [
              0.2222222222222222,
              "#7201a8"
             ],
             [
              0.3333333333333333,
              "#9c179e"
             ],
             [
              0.4444444444444444,
              "#bd3786"
             ],
             [
              0.5555555555555556,
              "#d8576b"
             ],
             [
              0.6666666666666666,
              "#ed7953"
             ],
             [
              0.7777777777777778,
              "#fb9f3a"
             ],
             [
              0.8888888888888888,
              "#fdca26"
             ],
             [
              1,
              "#f0f921"
             ]
            ],
            "type": "surface"
           }
          ],
          "table": [
           {
            "cells": {
             "fill": {
              "color": "#EBF0F8"
             },
             "line": {
              "color": "white"
             }
            },
            "header": {
             "fill": {
              "color": "#C8D4E3"
             },
             "line": {
              "color": "white"
             }
            },
            "type": "table"
           }
          ]
         },
         "layout": {
          "annotationdefaults": {
           "arrowcolor": "#2a3f5f",
           "arrowhead": 0,
           "arrowwidth": 1
          },
          "autotypenumbers": "strict",
          "coloraxis": {
           "colorbar": {
            "outlinewidth": 0,
            "ticks": ""
           }
          },
          "colorscale": {
           "diverging": [
            [
             0,
             "#8e0152"
            ],
            [
             0.1,
             "#c51b7d"
            ],
            [
             0.2,
             "#de77ae"
            ],
            [
             0.3,
             "#f1b6da"
            ],
            [
             0.4,
             "#fde0ef"
            ],
            [
             0.5,
             "#f7f7f7"
            ],
            [
             0.6,
             "#e6f5d0"
            ],
            [
             0.7,
             "#b8e186"
            ],
            [
             0.8,
             "#7fbc41"
            ],
            [
             0.9,
             "#4d9221"
            ],
            [
             1,
             "#276419"
            ]
           ],
           "sequential": [
            [
             0,
             "#0d0887"
            ],
            [
             0.1111111111111111,
             "#46039f"
            ],
            [
             0.2222222222222222,
             "#7201a8"
            ],
            [
             0.3333333333333333,
             "#9c179e"
            ],
            [
             0.4444444444444444,
             "#bd3786"
            ],
            [
             0.5555555555555556,
             "#d8576b"
            ],
            [
             0.6666666666666666,
             "#ed7953"
            ],
            [
             0.7777777777777778,
             "#fb9f3a"
            ],
            [
             0.8888888888888888,
             "#fdca26"
            ],
            [
             1,
             "#f0f921"
            ]
           ],
           "sequentialminus": [
            [
             0,
             "#0d0887"
            ],
            [
             0.1111111111111111,
             "#46039f"
            ],
            [
             0.2222222222222222,
             "#7201a8"
            ],
            [
             0.3333333333333333,
             "#9c179e"
            ],
            [
             0.4444444444444444,
             "#bd3786"
            ],
            [
             0.5555555555555556,
             "#d8576b"
            ],
            [
             0.6666666666666666,
             "#ed7953"
            ],
            [
             0.7777777777777778,
             "#fb9f3a"
            ],
            [
             0.8888888888888888,
             "#fdca26"
            ],
            [
             1,
             "#f0f921"
            ]
           ]
          },
          "colorway": [
           "#636efa",
           "#EF553B",
           "#00cc96",
           "#ab63fa",
           "#FFA15A",
           "#19d3f3",
           "#FF6692",
           "#B6E880",
           "#FF97FF",
           "#FECB52"
          ],
          "font": {
           "color": "#2a3f5f"
          },
          "geo": {
           "bgcolor": "white",
           "lakecolor": "white",
           "landcolor": "#E5ECF6",
           "showlakes": true,
           "showland": true,
           "subunitcolor": "white"
          },
          "hoverlabel": {
           "align": "left"
          },
          "hovermode": "closest",
          "mapbox": {
           "style": "light"
          },
          "paper_bgcolor": "white",
          "plot_bgcolor": "#E5ECF6",
          "polar": {
           "angularaxis": {
            "gridcolor": "white",
            "linecolor": "white",
            "ticks": ""
           },
           "bgcolor": "#E5ECF6",
           "radialaxis": {
            "gridcolor": "white",
            "linecolor": "white",
            "ticks": ""
           }
          },
          "scene": {
           "xaxis": {
            "backgroundcolor": "#E5ECF6",
            "gridcolor": "white",
            "gridwidth": 2,
            "linecolor": "white",
            "showbackground": true,
            "ticks": "",
            "zerolinecolor": "white"
           },
           "yaxis": {
            "backgroundcolor": "#E5ECF6",
            "gridcolor": "white",
            "gridwidth": 2,
            "linecolor": "white",
            "showbackground": true,
            "ticks": "",
            "zerolinecolor": "white"
           },
           "zaxis": {
            "backgroundcolor": "#E5ECF6",
            "gridcolor": "white",
            "gridwidth": 2,
            "linecolor": "white",
            "showbackground": true,
            "ticks": "",
            "zerolinecolor": "white"
           }
          },
          "shapedefaults": {
           "line": {
            "color": "#2a3f5f"
           }
          },
          "ternary": {
           "aaxis": {
            "gridcolor": "white",
            "linecolor": "white",
            "ticks": ""
           },
           "baxis": {
            "gridcolor": "white",
            "linecolor": "white",
            "ticks": ""
           },
           "bgcolor": "#E5ECF6",
           "caxis": {
            "gridcolor": "white",
            "linecolor": "white",
            "ticks": ""
           }
          },
          "title": {
           "x": 0.05
          },
          "xaxis": {
           "automargin": true,
           "gridcolor": "white",
           "linecolor": "white",
           "ticks": "",
           "title": {
            "standoff": 15
           },
           "zerolinecolor": "white",
           "zerolinewidth": 2
          },
          "yaxis": {
           "automargin": true,
           "gridcolor": "white",
           "linecolor": "white",
           "ticks": "",
           "title": {
            "standoff": 15
           },
           "zerolinecolor": "white",
           "zerolinewidth": 2
          }
         }
        },
        "title": {
         "text": "Green Vote Share by Constituency"
        },
        "xaxis": {
         "anchor": "y",
         "domain": [
          0,
          1
         ],
         "title": {
          "text": "Constituency"
         }
        },
        "yaxis": {
         "anchor": "x",
         "domain": [
          0,
          1
         ],
         "title": {
          "text": "Green Voter Share (%)"
         }
        }
       }
      }
     },
     "metadata": {},
     "output_type": "display_data"
    }
   ],
   "source": [
    "\n",
    "\n",
    "data = UkData.query.filter_by(country = \"England\").with_entities(\n",
    "    UkData.country,\n",
    "    UkData.constituency_name,\n",
    "    UkData.GreenVote19,\n",
    "    UkData.TotalVote19).all()\n",
    "\n",
    "\n",
    "df = pd.DataFrame(data, columns=[\"Country\", \"Constituency\", \"GreenVote\", \"TotalVote\"])\n",
    "\n",
    "\n",
    "df[\"GreenVoteShare\"] = (df[\"GreenVote\"]/df[\"TotalVote\"]) * 100\n",
    "\n",
    "fig = px.bar(df, x=\"Constituency\", y=df['GreenVoteShare'],\n",
    "                title=\"Green Vote Share by Constituency\",\n",
    "                 color_continuous_scale=px.colors.sequential.Magma)  # colour-blind friendly\n",
    "\n",
    "# Labelling\n",
    "fig.update_layout(\n",
    "        xaxis_title=\"Constituency\",\n",
    "        yaxis_title=\"Green Voter Share (%)\",\n",
    "    )\n",
    "\n",
    "\n",
    "df.tail()\n",
    "\n",
    "fig"
   ]
  },
  {
   "cell_type": "code",
   "execution_count": 15,
   "id": "33556cdf",
   "metadata": {},
   "outputs": [
    {
     "name": "stdout",
     "output_type": "stream",
     "text": [
      "0      47932.0\n",
      "1      39342.0\n",
      "2      54763.0\n",
      "3      45567.0\n",
      "4      61408.0\n",
      "        ...   \n",
      "528    44759.0\n",
      "529    59260.0\n",
      "530    49505.0\n",
      "531    55347.0\n",
      "532    52769.0\n",
      "Name: TotalVote, Length: 533, dtype: float64\n"
     ]
    }
   ],
   "source": [
    "col = df.iloc[:, 3]\n",
    "print(col)"
   ]
  },
  {
   "cell_type": "code",
   "execution_count": 16,
   "id": "c1bc96c2",
   "metadata": {},
   "outputs": [
    {
     "data": {
      "text/plain": [
       "array(['England'], dtype=object)"
      ]
     },
     "execution_count": 16,
     "metadata": {},
     "output_type": "execute_result"
    }
   ],
   "source": [
    "df[\"Country\"].unique()"
   ]
  },
  {
   "cell_type": "code",
   "execution_count": 17,
   "id": "0fdbd05f",
   "metadata": {},
   "outputs": [
    {
     "name": "stdout",
     "output_type": "stream",
     "text": [
      "     Country                        Constituency  GreenVote  TotalVote  \\\n",
      "253  England  Kingston upon Hull West and Hessle       50.0    31356.0   \n",
      "37   England              Birmingham, Hodge Hill      328.0    45003.0   \n",
      "148  England                          East Devon      711.0    64073.0   \n",
      "364  England                              Redcar      491.0    40842.0   \n",
      "265  England                          Kensington      535.0    43762.0   \n",
      "431  England                Stoke-on-Trent North      508.0    40134.0   \n",
      "19   England                     Batley and Spen      692.0    52927.0   \n",
      "257  England                        Ilford South      714.0    53477.0   \n",
      "42   England                 Birmingham, Yardley      579.0    42678.0   \n",
      "293  England               Liverpool, West Derby      605.0    43989.0   \n",
      "72   England                  Brighton, Pavilion    33151.0    57998.0   \n",
      "76   England                        Bristol West    18809.0    75528.0   \n",
      "163  England            Dulwich and West Norwood     9211.0    55778.0   \n",
      "87   England                     Bury St Edmunds     9711.0    61957.0   \n",
      "259  England                       Isle of Wight    11338.0    74442.0   \n",
      "235  England                 North Herefordshire     4769.0    51033.0   \n",
      "193  England                      Forest of Dean     4681.0    51475.0   \n",
      "114  England                             Chorley     3600.0    39870.0   \n",
      "398  England                   Sheffield Central     4570.0    50913.0   \n",
      "208  England   Hackney North and Stoke Newington     4989.0    56864.0   \n",
      "\n",
      "     GreenVoteShare  \n",
      "253        0.159459  \n",
      "37         0.728840  \n",
      "148        1.109672  \n",
      "364        1.202194  \n",
      "265        1.222522  \n",
      "431        1.265760  \n",
      "19         1.307461  \n",
      "257        1.335153  \n",
      "42         1.356671  \n",
      "293        1.375344  \n",
      "72        57.158868  \n",
      "76        24.903347  \n",
      "163       16.513679  \n",
      "87        15.673774  \n",
      "259       15.230649  \n",
      "235        9.344934  \n",
      "193        9.093735  \n",
      "114        9.029345  \n",
      "398        8.976096  \n",
      "208        8.773565  \n"
     ]
    }
   ],
   "source": [
    "# sort graph and only include biggest & smallest observations\n",
    "df = pd.concat((df.nsmallest(10, columns=\"GreenVoteShare\"), df.nlargest(10, columns=\"GreenVoteShare\")))\n",
    "\n",
    "print(df)"
   ]
  }
 ],
 "metadata": {
  "kernelspec": {
   "display_name": "dsa",
   "language": "python",
   "name": "python3"
  },
  "language_info": {
   "codemirror_mode": {
    "name": "ipython",
    "version": 3
   },
   "file_extension": ".py",
   "mimetype": "text/x-python",
   "name": "python",
   "nbconvert_exporter": "python",
   "pygments_lexer": "ipython3",
   "version": "3.11.11"
  }
 },
 "nbformat": 4,
 "nbformat_minor": 5
}
